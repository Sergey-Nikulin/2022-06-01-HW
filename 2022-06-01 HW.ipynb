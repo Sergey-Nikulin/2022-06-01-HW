{
 "cells": [
  {
   "cell_type": "markdown",
   "id": "de01a09b",
   "metadata": {},
   "source": [
    "### Задание 1\n",
    "- Даны 2 переменных, в которых хранятся строки произвольной длины: phrase_1 и phrase_2.\n",
    "- Напишите код, который проверяет какая из этих строк длиннее."
   ]
  },
  {
   "cell_type": "code",
   "execution_count": 4,
   "id": "3dbf308f",
   "metadata": {},
   "outputs": [
    {
     "name": "stdout",
     "output_type": "stream",
     "text": [
      "Фразы равной длины\n"
     ]
    }
   ],
   "source": [
    "# phrase_1 = 'Насколько проще было бы писать программы, если бы не заказчики'\n",
    "# phrase_2 = '640Кб должно хватить для любых задач. Билл Гейтс (по легенде)'\n",
    "\n",
    "# phrase_1 = '640Кб должно хватить для любых задач. Билл Гейтс (по легенде)'\n",
    "# phrase_2 = 'Насколько проще было бы писать программы, если бы не заказчики'\n",
    "\n",
    "phrase_1 = 'Насколько проще было бы писать программы, если бы не заказчики'\n",
    "phrase_2 = 'Насколько проще было бы писать программы, если бы не заказчики'\n",
    "\n",
    "\n",
    "if len(phrase_1) > len(phrase_2):\n",
    "    print(\"Фраза 1 длиннее фразы 2\")\n",
    "elif len(phrase_2) > len(phrase_1):\n",
    "    print(\"Фраза 2 длиннее фразы 1\")\n",
    "else:\n",
    "    print(\"Фразы равной длины\")\n",
    "    "
   ]
  },
  {
   "cell_type": "code",
   "execution_count": null,
   "id": "bb494b5b",
   "metadata": {},
   "outputs": [],
   "source": []
  },
  {
   "cell_type": "markdown",
   "id": "7940a03c",
   "metadata": {},
   "source": [
    "### Задание 2\n",
    "- Дана переменная, в которой хранится четырехзначное число (год). Необходимо написать программу, которая выведет, является ли  данный год високосным или обычным."
   ]
  },
  {
   "cell_type": "code",
   "execution_count": 22,
   "id": "7ea2f688",
   "metadata": {},
   "outputs": [
    {
     "name": "stdout",
     "output_type": "stream",
     "text": [
      "Введите год:2004\n",
      "Високосный год\n"
     ]
    }
   ],
   "source": [
    "year_input = int(input('Введите год:'))\n",
    "\n",
    "if year_input % 4 == 0:\n",
    "    print('Високосный год')\n",
    "elif year_input % 400 == 0 and year_input % 100 != 0:\n",
    "    print('Високосный год')\n",
    "else:\n",
    "    print(\"Не високосный год \")"
   ]
  },
  {
   "cell_type": "code",
   "execution_count": null,
   "id": "a33e632c",
   "metadata": {},
   "outputs": [],
   "source": []
  },
  {
   "cell_type": "markdown",
   "id": "a863d803",
   "metadata": {},
   "source": [
    "### Задание 3\n",
    "- Необходимо написать программу, которая будет запрашивать у пользователя месяц и дату рождения и выводить соответствующий знак зодиака."
   ]
  },
  {
   "cell_type": "code",
   "execution_count": 1,
   "id": "9d7e81c5",
   "metadata": {},
   "outputs": [
    {
     "name": "stdout",
     "output_type": "stream",
     "text": [
      "Введите число:4\n",
      "Введите месяц:11\n",
      "Ваш знак: Скорпион\n"
     ]
    }
   ],
   "source": [
    "day = int(input('Введите число:'))\n",
    "month = input('Введите месяц:')\n",
    "\n",
    "\n",
    "if month == '03' and 31 >= day >= 21 or month == '04' and 20 >= day >= 1:\n",
    "    print('Ваш знак: Рыбы')\n",
    "\n",
    "elif month == '04' and 30 >= day >= 21 or month == '05' and 20 >= day >= 1:\n",
    "    print('Ваш знак: Телец')\n",
    "\n",
    "elif month == '05' and 31 >= day >= 22 or month == '06' and 21 >= day >= 1:\n",
    "    print('Ваш знак: Близнецы')\n",
    "\n",
    "elif month == '06' and 30 >= day >= 22 or month == '07' and 22 >= day >= 1:\n",
    "    print('Ваш знак: Рак')\n",
    "    \n",
    "elif month == '07' and 31 >= day >= 23 or month == '08' and 23 >= day >= 1:\n",
    "    print('Ваш знак: Лев')\n",
    "    \n",
    "elif month == '08' and 31 >= day >= 24 or month == '09' and 23 >= day >= 1:\n",
    "    print('Ваш знак: Дева')\n",
    "    \n",
    "elif month == '09' and 30 >= day >= 24 or month == '10' and 23 >= day >= 1:\n",
    "    print('Ваш знак: Весы')\n",
    "    \n",
    "elif month == '10' and 31 >= day >= 24 or month == '11' and 22 >= day >= 1:\n",
    "    print('Ваш знак: Скорпион')\n",
    "    \n",
    "elif month == '11' and 30 >= day >= 23 or month == '12' and 21 >= day >= 1:\n",
    "    print('Ваш знак: Стрелец')\n",
    "\n",
    "elif month == '12' and 31 >= day >= 22 or month == '01' and 20 >= day >= 1:\n",
    "    print('Ваш знак: Козерог')\n",
    "    \n",
    "elif month == '01' and 31 >= day >= 21 or month == '02' and 18 >= day >= 1:\n",
    "    print('Ваш знак: Водолей')\n",
    "    \n",
    "elif month == '02' and 28 >= day >= 19 or month == '03' and 20 >= day >= 1:\n",
    "    print('Ваш знак: Водолей')\n"
   ]
  },
  {
   "cell_type": "code",
   "execution_count": null,
   "id": "a5470ebb",
   "metadata": {},
   "outputs": [],
   "source": []
  },
  {
   "cell_type": "markdown",
   "id": "67ebde38",
   "metadata": {},
   "source": [
    "### Задание 4\n",
    "- Вам нужно написать программу для подбора упаковок по размерам товара. Размеры (ширина, длина, высота) хранятся в переменных (в сантиметрах):\n",
    "\n",
    "#### Используйте следующие правила:\n",
    "\n",
    "- если каждое из трех измерений менее или равно 15 сантиметрам, то выведите на экран “Коробка №1”;\n",
    "- если хотя бы одно из измерений больше 15 сантиметров, но менее 50 сантиметров, то выводите “Коробка №2”;\n",
    "- если длина товара больше 2 метров, то выводите “Упаковка для лыж”;\n",
    "- во всех остальных случаях выводите “Стандартная коробка №3”."
   ]
  },
  {
   "cell_type": "code",
   "execution_count": 3,
   "id": "b201a339",
   "metadata": {},
   "outputs": [
    {
     "name": "stdout",
     "output_type": "stream",
     "text": [
      "Введите ширину(см):45\n",
      "Введите длину(см):205\n",
      "Введите высоту(см):45\n",
      "Упаковка для лыж\n"
     ]
    }
   ],
   "source": [
    "width = int(input('Введите ширину(см):'))\n",
    "length = int(input('Введите длину(см):'))\n",
    "height = int(input('Введите высоту(см):'))\n",
    "\n",
    "if width <= 15 and length <= 15 and height <= 15:\n",
    "    print(\"Коробка №1\")\n",
    "elif 15 < width < 50 and length <= 200 or 15 < length < 50 and length <= 200 or 15 < height < 50 and length <= 200 :\n",
    "    print(\"Коробка №2\")\n",
    "elif length > 200:\n",
    "    print(\"Упаковка для лыж\")\n",
    "else:\n",
    "    print(\"Стандартная коробка №3\")\n",
    "\n"
   ]
  },
  {
   "cell_type": "code",
   "execution_count": null,
   "id": "095e4458",
   "metadata": {},
   "outputs": [],
   "source": []
  },
  {
   "cell_type": "markdown",
   "id": "eefee23b",
   "metadata": {},
   "source": [
    "Дана переменная, в которой хранится шестизначное число (номер проездного билета). Напишите программу, которая будет определять, является ли данный билет \"счастливым\". Билет считается счастливым, если сумма первых трех цифр совпадает с суммой последних трех цифр номера."
   ]
  },
  {
   "cell_type": "code",
   "execution_count": 1,
   "id": "9384451c",
   "metadata": {},
   "outputs": [
    {
     "name": "stdout",
     "output_type": "stream",
     "text": [
      "Не счастливый билет, т.к. 6 != 15\n"
     ]
    }
   ],
   "source": [
    "num = '123456'\n",
    "if int(num[0]) + int(num[1]) + int(num[2]) == int(num[3]) + int(num[4]) + int(num[5]):\n",
    "    print(int(num[0] + num[1] + num[2]))\n",
    "    print(f\"Счастливый билет, т.к. {int(num[0]) + int(num[1]) + int(num[2])} = {int(num[3]) + int(num[4]) + int(num[5])}\")\n",
    "else:\n",
    "    print(f\"Не счастливый билет, т.к. {int(num[0]) + int(num[1]) + int(num[2])} != {int(num[3]) + int(num[4]) + int(num[5])}\")\n"
   ]
  },
  {
   "cell_type": "code",
   "execution_count": 71,
   "id": "79213ed5",
   "metadata": {},
   "outputs": [
    {
     "name": "stdout",
     "output_type": "stream",
     "text": [
      "Не счастливый билет, т.к. 6 != 8\n"
     ]
    }
   ],
   "source": [
    "num = '123323'\n",
    "num_1 = int(num[0]) + int(num[1]) + int(num[2])\n",
    "num_2 = int(num[3]) + int(num[4]) + int(num[5])\n",
    "if num_1 == num_2:\n",
    "    print(f\"Счастливый билет, т.к. {num_1} = {num_2}\")\n",
    "else:\n",
    "    print(f\"Не счастливый билет, т.к. {num_1} != {num_2}\")"
   ]
  },
  {
   "cell_type": "code",
   "execution_count": 72,
   "id": "fc133aba",
   "metadata": {},
   "outputs": [
    {
     "name": "stdout",
     "output_type": "stream",
     "text": [
      "Счастливый билет\n"
     ]
    }
   ],
   "source": [
    "if 1 + 2 + 3 == 3 + 2 + 1:\n",
    "    print('Счастливый билет')\n",
    "else:\n",
    "    print('looser')"
   ]
  },
  {
   "cell_type": "code",
   "execution_count": null,
   "id": "07040f17",
   "metadata": {},
   "outputs": [],
   "source": []
  }
 ],
 "metadata": {
  "kernelspec": {
   "display_name": "Python 3 (ipykernel)",
   "language": "python",
   "name": "python3"
  },
  "language_info": {
   "codemirror_mode": {
    "name": "ipython",
    "version": 3
   },
   "file_extension": ".py",
   "mimetype": "text/x-python",
   "name": "python",
   "nbconvert_exporter": "python",
   "pygments_lexer": "ipython3",
   "version": "3.9.12"
  }
 },
 "nbformat": 4,
 "nbformat_minor": 5
}
